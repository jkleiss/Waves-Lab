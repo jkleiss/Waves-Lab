{
  "nbformat": 4,
  "nbformat_minor": 0,
  "metadata": {
    "colab": {
      "provenance": [],
      "toc_visible": true,
      "include_colab_link": true
    },
    "kernelspec": {
      "name": "python3",
      "display_name": "Python 3"
    },
    "language_info": {
      "name": "python"
    }
  },
  "cells": [
    {
      "cell_type": "markdown",
      "metadata": {
        "id": "view-in-github",
        "colab_type": "text"
      },
      "source": [
        "<a href=\"https://colab.research.google.com/github/jkleiss/Waves-Lab/blob/main/Python_Dispersion_Relation.ipynb\" target=\"_parent\"><img src=\"https://colab.research.google.com/assets/colab-badge.svg\" alt=\"Open In Colab\"/></a>"
      ]
    },
    {
      "cell_type": "markdown",
      "source": [
        "# Dispersion Relation Analysis\n",
        "\n",
        "The dispersion relation relates the wavelength, wave speed, and water depth.\n",
        "If I tell you the wavelength and water depth, you can tell me the wave speed.\n",
        "\n",
        "Let's try it. A tsunami wave in the deep ocean can have a wavelength of\n",
        "hundreds of kilometers. The average ocean depth is 4km.\n",
        "Can we use the dispersion relation to calculate the speed of a\n",
        "tsunami wavecrest? First we'll define some variables:\n",
        "```\n",
        "L = 200000 # wave length (in meters: about 200 km -- VERY LONG!!!)\n",
        "g = 9.8 # acceleration due to gravity (m/s^2)\n",
        "d_ave = 4000 # water depth (in meters: about 4 km.)\n"
      ],
      "metadata": {
        "id": "dB1pvvpEGgND"
      }
    },
    {
      "cell_type": "code",
      "execution_count": null,
      "metadata": {
        "id": "WsO4fIEuFC3N"
      },
      "outputs": [],
      "source": [
        "# Create variables for the wave length (L), gravity (g), and average water depth (d_ave) here.\n"
      ]
    },
    {
      "cell_type": "markdown",
      "source": [
        "Here is the full dispersion relation, expressed as the wave speed *c*\n",
        "\n",
        "Can you confirm that it matches the equation you've seen in class?\n",
        "```\n",
        "c = sqrt(g*L/(2*pi) * tanh(d*2*pi/L)); # dispersion relation\n",
        "```\n",
        "\n",
        "In Python, all of those math functions need to come from the Numpy library. So we have to import the Numpy library. Run this code:"
      ],
      "metadata": {
        "id": "RuWYOZOpHDTJ"
      }
    },
    {
      "cell_type": "code",
      "source": [
        "import numpy as np"
      ],
      "metadata": {
        "id": "RQk3ieq4OfKW"
      },
      "execution_count": null,
      "outputs": []
    },
    {
      "cell_type": "markdown",
      "source": [
        "Then try to make the dispersion relation work for your tsunami! Find the phase speed of your tsunami using the dispersion relation above, and call it 'c_t'. Every math function (sqrt, pi, and tanh) needs to follow \"np.\"  You'll get error messages until you get it right. Give it a try! (Hint: Remember to use d_ave for your depth!)"
      ],
      "metadata": {
        "id": "xYeLd8izOqIX"
      }
    },
    {
      "cell_type": "code",
      "source": [
        "# Find the wave speed of your tsunami, \"c_t,\" using the full dispersion relation above, adding \"np.\" before every math term\n",
        "# print the value of c_t that you obtain.\n"
      ],
      "metadata": {
        "id": "gFryZKyKHZmR"
      },
      "execution_count": null,
      "outputs": []
    },
    {
      "cell_type": "markdown",
      "source": [
        "DISCUSSION: (no need to include in answer sheet)\n",
        "\n",
        "What is the approximate speed of a tsunami wave? (Think about units!)\n",
        "\n",
        "How does this compare to the speed of a commercial airliner?\n",
        "\n",
        "Discuss your results with your neighbor and instructor.\n",
        "\n",
        "\n",
        "ANSWER: The tsunami speed is around 200 m/s, or 700 km/hr. A Boeing 747 has a cruise speed of about 900 km/hr. Wow!"
      ],
      "metadata": {
        "id": "ZJ_LfULQILmd"
      }
    },
    {
      "cell_type": "markdown",
      "source": [
        "\n",
        "Ocean waves have much smaller wavelengths, like 100's of meters. The wave speed depends on two variables (wavelength L, and water depth d), which is hard to plot. So our strategy will be to hold the wavelength constant, at L = 100 m, and see how the wave speed changes in different water depths. First, define your new wavelength L as 100 m, and print the result, in the code box below:"
      ],
      "metadata": {
        "id": "vM9pfPqwI5CJ"
      }
    },
    {
      "cell_type": "code",
      "source": [
        "# Define the wavelength L as 100 m, and print your result\n"
      ],
      "metadata": {
        "id": "ZlPdhY2wJ8XM"
      },
      "execution_count": null,
      "outputs": []
    },
    {
      "cell_type": "markdown",
      "source": [
        "Pause for a second. How long is 100 m? Can you relate this to something in your life, your experience, or your surroundings? Discuss with a neighbor and your instructor."
      ],
      "metadata": {
        "id": "bwP3YbxWa2R5"
      }
    },
    {
      "cell_type": "markdown",
      "source": [
        "Now, we need to set up a range of water depths. Let's make a list of depths from 0 to L with a stepsize 0.1, and call it \"d.\" To do this, we want to use the `np.arange` command we learned in the last section. Create your new list of depths in the code box below!"
      ],
      "metadata": {
        "id": "N0oIU--CaPiK"
      }
    },
    {
      "cell_type": "code",
      "source": [
        "#Use np.arange to create a list that ranges from 0 to L, with a stepsize 0.1.\n",
        "# Name it \"d \"\n"
      ],
      "metadata": {
        "id": "sJrBKm_paQ17"
      },
      "execution_count": null,
      "outputs": []
    },
    {
      "cell_type": "markdown",
      "source": [
        "Take a minute to confirm that the list **d** looks the way you'd expect. What is the min, max, and length of **d**? Use the functions **min, max**, and **len** to check your assumption (*just use the code block above*)."
      ],
      "metadata": {
        "id": "rDykKmL0Ps27"
      }
    },
    {
      "cell_type": "markdown",
      "source": [
        "Now that you've defined your variables, we can compute the wave (phase) speed \"c\" for every element in \"d.\" Then, let's print the min, max, and length of c. I'll give you this code for free."
      ],
      "metadata": {
        "id": "LEwgJ3moJiYP"
      }
    },
    {
      "cell_type": "code",
      "source": [
        "c = np.sqrt(g*L / (2*np.pi) * np.tanh(2*np.pi*d / L)) # phase speed from dispersion relation\n",
        "print(\"min, max, and length of wave speed c:\")\n",
        "print(min(c))\n",
        "print(max(c))\n",
        "print(len(c))"
      ],
      "metadata": {
        "id": "tccmxXf3JgF9"
      },
      "execution_count": null,
      "outputs": []
    },
    {
      "cell_type": "markdown",
      "source": [
        "Can you remember how to plot, using the \"plt\" shortcut? Don't forget to import matplotlib first!  (and give it the shortcut name \"plt\".)"
      ],
      "metadata": {
        "id": "RTPD083qQZIr"
      }
    },
    {
      "cell_type": "code",
      "source": [
        "import matplotlib.pyplot as plt"
      ],
      "metadata": {
        "id": "jWAOqWgVQYUS"
      },
      "execution_count": null,
      "outputs": []
    },
    {
      "cell_type": "markdown",
      "source": [
        "CHALLENGE: Using what you have learned about plotting, can you create a plot?\n",
        "* Remember the basic command starts plt.plot(...\n",
        "* Make the x-variable \"d\", and the y-variable \"c\".\n",
        "* Make the line color black ('k' or \"black\")\n",
        "* Give it a title: \"Wave speed v. water depth for a constant wavelength L = 100 m\"\n",
        "* Label the x- and y-axes including units.\n",
        "\n",
        "If you got a black line that starts at (0,0), then grows to a height of\n",
        " about 12, and extends out to x=100, then you've done it!\n",
        " Get help until you're there."
      ],
      "metadata": {
        "id": "rqN8fpqKKXov"
      }
    },
    {
      "cell_type": "code",
      "source": [
        "# Create a plot of c vs. d here.\n"
      ],
      "metadata": {
        "colab": {
          "base_uri": "https://localhost:8080/",
          "height": 474
        },
        "id": "v6-ZPJn5eR6Q",
        "outputId": "bd795bd4-3baf-43c6-d743-50b722372050"
      },
      "execution_count": null,
      "outputs": [
        {
          "output_type": "display_data",
          "data": {
            "text/plain": [
              "<Figure size 640x480 with 1 Axes>"
            ],
            "image/png": "[encoded data removed]"
          },
          "metadata": {}
        }
      ]
    },
    {
      "cell_type": "markdown",
      "source": [
        "hint: do you want to type a real greek \"lambda\" in your title? You can do this using a \"raw\" string (starts with \"r\"), and Latex code in your title (surrounded by $$):\n",
        "```\n",
        "plt.title(r'Wave speed v. water depth for a constant wavelength $\\lambda$ = 100 m')\n",
        "```\n",
        "\n",
        "Check your plot, INCLUDING YOUR X- AND Y-AXIS LABELS with your neighbor and instructor until you get them right.\n",
        "\n",
        "Great job!  Now we will add the shallow-water approximation for comparison:\n",
        "\n",
        "# Shallow Water Approximation\n",
        "In the shallow water approximation, the tanh(kd) ≅ kd , so the\n",
        "dispersion relation becomes:\n",
        "```\n",
        "cs = sqrt(gd)\n",
        "```\n",
        "(we'll call it \"cs\" for \"c-shallow,\" so we can plot it and compare it with the previous \"c\" for the full dispersion relation.)"
      ],
      "metadata": {
        "id": "6FIl_1jeMIOM"
      }
    },
    {
      "cell_type": "code",
      "source": [
        "# Write a one-line equation for cs, using g and d that you have already created.\n",
        "# remember that sqrt comes from the Numpy library!\n",
        "\n"
      ],
      "metadata": {
        "id": "qrh86z8FRaab"
      },
      "execution_count": null,
      "outputs": []
    },
    {
      "cell_type": "markdown",
      "source": [
        "Here is some code to create a plot with the full dispersion relation and the shallow approximation. Read every line, and try to understand how the code works. Do you see how it was done?"
      ],
      "metadata": {
        "id": "ndK7okTAR5BG"
      }
    },
    {
      "cell_type": "code",
      "source": [
        "# Plot the full dispersion relation and shallow-water approximation together,\n",
        "# holding L=100, for a range of water depths\n",
        "plt.plot(d, c, \"black\", d, cs, \"red\")\n",
        "plt.title(r'Wave speed v. water depth for a constant wavelength $\\lambda$ = 100 m')\n",
        "plt.xlabel(\"water depth (meters)\")\n",
        "plt.ylabel(\"wave speed (m/s)\");\n",
        "plt.legend([\"full dispersion relation\", \"shallow-water approximation\"])\n",
        "plt.xlim([0, 100])\n",
        "plt.ylim([0, 15]);\n",
        "plt.grid()"
      ],
      "metadata": {
        "colab": {
          "base_uri": "https://localhost:8080/",
          "height": 474
        },
        "id": "es4YSVf1R-DN",
        "outputId": "b0cecb10-ee5f-4d0a-f11f-8cc49f630e4b"
      },
      "execution_count": null,
      "outputs": [
        {
          "output_type": "display_data",
          "data": {
            "text/plain": [
              "<Figure size 640x480 with 1 Axes>"
            ],
            "image/png": "[encoded data removed]"
          },
          "metadata": {}
        }
      ]
    },
    {
      "cell_type": "markdown",
      "source": [
        "Nice! Two key new commands above are\n",
        "```\n",
        "plt.xlim()\n",
        "plt.ylim()\n",
        "```\n",
        "These set the x-axis limits and y-axis limits. It expects you to provide a list: [xmin, xmax]. You can use this to \"zoom in\" on a plot to explore one part of it more closely. For example, change the code above and re-run it with the following two commands:\n",
        "```\n",
        "plt.xlim([2, 10])\n",
        "plt.ylim([4, 12])\n",
        "```"
      ],
      "metadata": {
        "id": "y7G7dzGtWCAI"
      }
    },
    {
      "cell_type": "markdown",
      "source": [
        "# Exercise Block #1\n",
        "#### Wave (Phase) Speed vs. Water Depth: Shallow water approx.\n",
        "\n",
        "Copy-paste your answers to the following questions in your answer sheet.  There will be four exercise blocks just like this one in this exercise, as you explore the ranges of water depth and wavelength in which these approximations hold.\n",
        "\n",
        "1. Copy-paste a nice graph of the full dispersion relation and the shallow-water approximation. Include your code.\n",
        "\n",
        "2. Zoom in on the graph to determine where the shallow water approximation fully deviates away from the full dispersion relation.\n",
        "*  At which depth does the full dispersion relation fully separate and move away from the shallow-water approximation?\n",
        "* How does that depth relate to the wavelength? (i.e. What fraction of the wavelength (L = 100m) is that depth)? Please simplify your answer to a fraction that has \"1\" in the numerator.\n",
        "* How does the fraction that you found compare to the theoretical cutoff depth for shallow water waves (d < λ/20)?\n",
        "\n",
        "\n",
        "\n"
      ],
      "metadata": {
        "id": "KvqTm111OsOV"
      }
    },
    {
      "cell_type": "markdown",
      "source": [
        "# Deep Water Approximation\n",
        "\n",
        "In the deep water approximation,\n",
        "```\n",
        "tanh(kd) ≅ 1\n",
        "```\n",
        "so the dispersion relation becomes:\n",
        "```\n",
        "cd = sqrt(g/k) = sqrt(g*L/(2*pi))\n",
        "```\n",
        "(We'll call it \"cd\" for \"c-deep,\" so we can plot it and compare it with the previous \"c\" for the full dispersion relation and \"cs\" for the shallow-water approximation)\n",
        "\n",
        "Does the deep water wave speed depend on water depth?\n",
        "\n",
        "/// *think about it!* ///\n",
        "\n",
        "No!\n",
        "\n",
        "In the box below, write an equation for **cd** using our values for g and L.  Print cd."
      ],
      "metadata": {
        "id": "HY6fA2ZhRzfU"
      }
    },
    {
      "cell_type": "code",
      "source": [
        "# write an expression for wave speed in deep water (cd) using g and L\n",
        "# and print cd.\n"
      ],
      "metadata": {
        "id": "ZJ0c-H-FS0Ms"
      },
      "execution_count": null,
      "outputs": []
    },
    {
      "cell_type": "markdown",
      "source": [
        "Think about that number. What are the units? Convert it to units that are meaningful to you. How fast do typical ocean\n",
        "wave crests travel? Is it walking speed? biking speed? driving speed? Discuss your conclusions with a neighbor and your instructor.\n",
        "\n",
        "**ANSWER:\n",
        "The deep water speed is about 12.5 m/s, or about 28 mph, this is faster than most bikes. It's a car driving down a small road.**\n",
        "\n",
        "We can't simply plot(d,cd) because d is a list containing 1000 numbers, and cd is just one value. You can only plot lists that are the same length. So we will create a list that is the same length as d, but contains just the one value of cd."
      ],
      "metadata": {
        "id": "VBo1Xy8xTQX0"
      }
    },
    {
      "cell_type": "code",
      "source": [
        "# Create a list the same length as d, filled with the value of cd.\n",
        "oo = np.ones(len(d))\n",
        "cd = oo * np.sqrt(g*L/(2*np.pi))"
      ],
      "metadata": {
        "id": "gGkZqDm0UY9C"
      },
      "execution_count": null,
      "outputs": []
    },
    {
      "cell_type": "code",
      "source": [
        "# Copy-paste the code to create your plot from above.\n",
        "# change **cs** to **cd**,\n",
        "# make the line color for cd \"limegreen\".\n",
        "# change the legend, and don't zoom\n",
        "#   xlim: 0-100,  y-lim: 0-15.\n",
        "# check the title and axis labels.\n",
        "\n"
      ],
      "metadata": {
        "id": "Gyhw4wdfVHW7"
      },
      "execution_count": null,
      "outputs": []
    },
    {
      "cell_type": "markdown",
      "source": [
        "Repeat the activity from above. Zoom in to determine the water depth (for L=100) where the deep water approximation holds.\n",
        "\n",
        "# Exercise Block #2\n",
        "### Wave (phase) speed vs. water depth: deep-water approx.\n",
        "\n",
        "1. Copy-paste a nice graph of the full dispersion relation and the deep-water approximation. Include your code.\n",
        "\n",
        "2. Compare the deep-water approximation to the full dispersion relation\n",
        "*  At which depth does the full dispersion relation begin to asymptote with the deep-water approximation?\n",
        "* How does that depth relate to the wavelength? (i.e. What fraction of the wavelength (L = 100m) is that depth)? Please simplify your answer to a fraction that has \"1\" in the numerator.\n",
        "* How does the fraction that you found compare to the theoretical cutoff depth for shallow water waves (d < λ/2, or d < λ/4)?\n",
        "\n",
        "# Wave (Phase) Speed v. Wavelength\n",
        "\n",
        "Now, we want to see how the wave speed varies with wavelength.  So we'll hold the depth constant, and vary the wavelength.\n",
        "\n",
        "To avoid confusion with previous code, we will use slightly different variable names."
      ],
      "metadata": {
        "id": "L1yAhaLTWd3_"
      }
    },
    {
      "cell_type": "code",
      "source": [
        "# Set the water depth equal to a constant, 5 m.\n",
        "dd = 5\n",
        "\n",
        "# Create a list of wavelengths that range from 1 to 150m with a step size of 1\n",
        "LL  = np.arange(1, 150, 1)"
      ],
      "metadata": {
        "id": "hp5rxUCxYAfX"
      },
      "execution_count": null,
      "outputs": []
    },
    {
      "cell_type": "code",
      "source": [
        "# check your values for dd and LL using PRINT"
      ],
      "metadata": {
        "id": "Jp13UFmNNNOb"
      },
      "execution_count": null,
      "outputs": []
    },
    {
      "cell_type": "code",
      "source": [
        "# Create a new expression for wave speed (cc) using dd and LL,\n",
        "# using the full dispersion relation.\n",
        "cc = np.sqrt(g*LL/(2*np.pi)*np.tanh(2*np.pi*dd/LL));\n"
      ],
      "metadata": {
        "id": "GdBQ7pokZlpG"
      },
      "execution_count": null,
      "outputs": []
    },
    {
      "cell_type": "code",
      "source": [
        "# Use plt.plot() command to create a figure of the\n",
        "# full dispersion relationship in black\n",
        "# This time we'll see how speed varies with wavelength.\n",
        "# Give it a plt.title('Wave Speed v. Wavelength at constant depth = 5 m')\n",
        "# Give it correct x- and y-axis labels."
      ],
      "metadata": {
        "id": "oTJL2o7OZhdn"
      },
      "execution_count": null,
      "outputs": []
    },
    {
      "cell_type": "markdown",
      "source": [
        "# Shallow water approximation (v. wavelength)\n",
        "Now add the shallow and deep water approximations. I will give you the code here. Then TYPE it into the command box below to execute it.\n",
        "\n",
        "Since the depth is constant, the shallow-water wave speed doesn't change.\n",
        "Create a list of ones the same size as your wavelength list:\n",
        "```\n",
        "oo = np.ones(len(LL))\n",
        "```\n",
        "Then, multiply each of those ones by the value of the shallow water wave speed at the fixed depth:\n",
        "```\n",
        "ccs = oo * np.sqrt(g*dd)\n",
        "# add grid lines to your plot:\n",
        "grid on\n",
        "```\n",
        "Then, add your shallow water approximation to the plot of your dispersion\n",
        "relation.\n",
        "\n",
        "\n"
      ],
      "metadata": {
        "id": "FtgU_1RjOXsS"
      }
    },
    {
      "cell_type": "code",
      "source": [
        "# Create a list filled with ones, and then make all of those values the\n",
        "# wave speed for a depth of 5m.\n",
        "\n"
      ],
      "metadata": {
        "id": "on8YZHdcQyq8"
      },
      "execution_count": null,
      "outputs": []
    },
    {
      "cell_type": "code",
      "source": [
        "# Write a code block (feel free to copy-paste, then edit) to create a figure\n",
        "# that plots the full dispersion relation in black and the shallow-water approx in red.\n",
        "# Remember to include a legend!\n"
      ],
      "metadata": {
        "id": "7aDbPYW6O2pL"
      },
      "execution_count": null,
      "outputs": []
    },
    {
      "cell_type": "markdown",
      "source": [
        "# Exercise Block #3\n",
        "### Wave (phase) speed vs. wavelength: shallow-water approx.\n",
        "\n",
        "1. Copy-paste a nice graph of the full dispersion relation and the shallow-water approximation. Include your code.\n",
        "\n",
        "2. Compare the full dispersion relation to the shallow-water approximation\n",
        "*  At which wavelength does the full dispersion relation begin to asymptote with the shallow-water approximation?\n",
        "* How does that wavelength relate to the constant depth d = 5 m (i.e. what  fraction of the wavelength is that depth)? Please simplify your answer to a fraction that has \"1\" in the numerator.\n",
        "* How does the fraction that you found compare to the theoretical cutoff ratio of depth/wavelength for shallow water waves (d < λ/20)?\n",
        "\n",
        "# Deep water Approximation (v. wavelength)\n",
        "\n",
        "The deep water approximation DOES depend on wavelength."
      ],
      "metadata": {
        "id": "VReqNX0nRZ6h"
      }
    },
    {
      "cell_type": "code",
      "source": [
        "# Calculate the wavespeed using the deep water approximation\n",
        "ccd = np.sqrt(g*LL/(2*np.pi))"
      ],
      "metadata": {
        "id": "40TiGXnbS6qr"
      },
      "execution_count": null,
      "outputs": []
    },
    {
      "cell_type": "code",
      "source": [
        "# Write a code block (feel free to copy-paste, then edit) to create a figure\n",
        "# that plots all three:\n",
        "# 1) full dispersion relation in black\n",
        "# 2) the shallow  approx in red.\n",
        "# 3) the deep approx in limegreen.\n",
        "# remember to include a legend!\n"
      ],
      "metadata": {
        "id": "c3VvqiuCTVfA"
      },
      "execution_count": null,
      "outputs": []
    },
    {
      "cell_type": "markdown",
      "source": [
        "# EXERCISE BLOCK 4. Wave Phase Speed v. Wave Length: Deep water approx.\n",
        "\n",
        "Answer the following questions in your answer sheet:\n",
        "\n",
        "1. Copy-paste your figure of the wave (phase) speed due to the full dispersion relation and the deep-water approximation. Include your code.\n",
        "\n",
        "2. Compare the full dispersion relation to the deep-water\n",
        "approximation for constant depth:\n",
        "* At which wavelength do the two graphs first start to separate?  \n",
        "\n",
        "* How does that wavelength relate to the constant depth (i.e. what fraction of the wavelength is that depth)? Please simplify your answer\n",
        "to a fraction that has \"1\" in the numerator.\n",
        "* How does the fraction that you found compare to the theoretical\n",
        "cutoff depth for deep water waves (d > λ/2 or d > λ/4 )?\n"
      ],
      "metadata": {
        "id": "clSpdMjaT8yF"
      }
    }
  ]
}