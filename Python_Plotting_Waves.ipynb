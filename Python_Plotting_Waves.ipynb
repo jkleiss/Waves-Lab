{
  "nbformat": 4,
  "nbformat_minor": 0,
  "metadata": {
    "colab": {
      "provenance": [],
      "include_colab_link": true
    },
    "kernelspec": {
      "name": "python3",
      "display_name": "Python 3"
    },
    "language_info": {
      "name": "python"
    }
  },
  "cells": [
    {
      "cell_type": "markdown",
      "metadata": {
        "id": "view-in-github",
        "colab_type": "text"
      },
      "source": [
        "<a href=\"https://colab.research.google.com/github/jkleiss/Waves-Lab/blob/main/Python_Plotting_Waves.ipynb\" target=\"_parent\"><img src=\"https://colab.research.google.com/assets/colab-badge.svg\" alt=\"Open In Colab\"/></a>"
      ]
    },
    {
      "cell_type": "markdown",
      "source": [
        "# Python code for Waves Lab activities.\n",
        "\n",
        "Your instructor should introduce you to the Python setup you are using,\n",
        "including how to type and execute code. This tutorial was written in\n",
        "a Google Colab Notebook\n",
        "\n",
        "As you work through these activities, try to **TYPE** THE COMMANDS in\n",
        "the Console window to learn to code. DON'T COPY-PASTE. Muscle memory for the win!\n",
        "\n",
        "There are two libraries that we will need to run our code. Numpy is a library that contains useful values (like π = 3.1415...) and functions (like maximum). When we import numpy, we will give it a shorthand name, \"np\" like this:\n",
        "```\n",
        "import numpy as np\n",
        "```\n",
        "Similarly, Matplotlib is a package with functions that will let us create plots. We will give it a shorthand name \"plt.\"\n",
        "```\n",
        "import matplotlib.pyplot as plt\n",
        "```\n",
        "\n",
        "Press the \"Run\" button in the following code box to import these packages into this Python session."
      ],
      "metadata": {
        "id": "yGxTHjtjsBKM"
      }
    },
    {
      "cell_type": "code",
      "execution_count": null,
      "metadata": {
        "id": "3UG1EUf-fVwh"
      },
      "outputs": [],
      "source": [
        "import numpy as np\n",
        "import matplotlib.pyplot as plt"
      ]
    },
    {
      "cell_type": "markdown",
      "source": [
        "Let's create a variable named \"L,\" and assign it a value of 100, and print the results. Here is the code to do that:\n",
        "```\n",
        "L = 100\n",
        "print(L)\n",
        "```\n",
        "The box just below this allows you to type in python code, run it, and see the output. TYPE the commands above (\"L...\" and \"print...\") into the code box below, and hit the \"run\" button."
      ],
      "metadata": {
        "id": "YWQE8tD-rqKD"
      }
    },
    {
      "cell_type": "code",
      "source": [
        "# Define L here (and print its value)\n",
        "\n"
      ],
      "metadata": {
        "id": "if8zP0xJr-Xs",
        "colab": {
          "base_uri": "https://localhost:8080/"
        },
        "outputId": "36d472ee-3b99-4e2d-9738-e613f809730a"
      },
      "execution_count": null,
      "outputs": [
        {
          "output_type": "stream",
          "name": "stdout",
          "text": [
            "100\n"
          ]
        }
      ]
    },
    {
      "cell_type": "markdown",
      "source": [
        "Hooray!  You just created your first variable, \"L,\" gave it a value of 100, and printed its value. Good start! You can also create a variable using a calculation. Or you can just type a calculation and it will return the value. Here are some examples\n",
        "\n",
        "```\n",
        "L = 24*4\n",
        "\n",
        "13*4\n",
        "```\n",
        "\n",
        "Try writing some calculations using +, -, *, and / in the box below. Assign them to variables, or not. Then hit the \"run\" button to explore the output. You can do this as many times as you like."
      ],
      "metadata": {
        "id": "NX_GisbTuTkA"
      }
    },
    {
      "cell_type": "code",
      "source": [
        "# Try entering some calculations here (use \"print\" to explore the values of variables you create)\n"
      ],
      "metadata": {
        "id": "IrLpz_3GucNI"
      },
      "execution_count": null,
      "outputs": []
    },
    {
      "cell_type": "markdown",
      "source": [
        "Common constants like π or *e* can be accessed from the Numpy library. Remember that we imported the Numpy library at the beginning of this session:\n",
        "```\n",
        "import numpy as np\n",
        "```\n",
        "To access any constants or functions in the Numpy library, we can use its shortcut name, \"np\". For example, to get the value for pi from Numpy, we use **np.pi.**\n",
        "\n",
        "Set the variable z equal to π.  \n",
        "```\n",
        "z = np.pi\n",
        "```\n",
        "Try it in the box below (and use \"print\" to see z's value)"
      ],
      "metadata": {
        "id": "6LIkWUXFvBQ2"
      }
    },
    {
      "cell_type": "code",
      "source": [
        "# set the variable z equal to pi.  Then print its value\n"
      ],
      "metadata": {
        "id": "uoejntYKX3MO"
      },
      "execution_count": null,
      "outputs": []
    },
    {
      "cell_type": "markdown",
      "source": [
        "Variables can also be words, or strings. You can assign a string using either double quotes (\"\") or single quotes ('') like this:\n",
        "```\n",
        "a1 = 'Catch a wave!'\n",
        "a2 = \"Catch two waves!\"\n",
        "print(a1)\n",
        "print(a2)\n",
        "```\n",
        "Try creating some strings of your own in the code box below"
      ],
      "metadata": {
        "id": "LnHBywQ3YB_u"
      }
    },
    {
      "cell_type": "code",
      "source": [
        "# Create some variables that contain strings (text). Then use \"print\" to see their values.\n"
      ],
      "metadata": {
        "id": "sG-2EqCkYGv7"
      },
      "execution_count": null,
      "outputs": []
    },
    {
      "cell_type": "markdown",
      "source": [
        "# Lists\n",
        "\n",
        "Lists are variables that contain a list of numbers. This can be helpful for plotting and for analyzing data. You can make a list like this:\n",
        "```\n",
        "Year = [1990, 1991, 1992, 1993, 1994, 1995, 1996, 1997, 1998, 1999]\n",
        "```\n",
        "Here is a list of strings:\n",
        "```\n",
        "my_fav_things = [\"turtles\", \"fudge\", \"puffy clouds\"]\n",
        "```\n",
        "Try typing in a list using square brackets below, and printing its contents. Feel free to use any variable name, and any numbers in the list that you like. Explore and experiment!\n"
      ],
      "metadata": {
        "id": "ujJrn2W8YxWl"
      }
    },
    {
      "cell_type": "code",
      "source": [
        "# Create your own list here using square brackets (and print its value)\n"
      ],
      "metadata": {
        "id": "C9JgUO1EZVU6"
      },
      "execution_count": null,
      "outputs": []
    },
    {
      "cell_type": "markdown",
      "source": [
        "There are two useful lists that we want to make. One is a list with a specified step size, like: all the even numbers between 2 and 20.  We can use a function inside Numpy to do this. The function is called \"arange,\" and it works like this:\n",
        "```\n",
        "even_years = np.arange(start = 1990, stop=2000, step=2)\n",
        "```\n",
        "Arange only goes \"up to\" the stop point, but does not include it.\n",
        "\n",
        "Try the \"even_years\" code below. Also try to generate a list of leap years from 2004 - 2050. (2004 is a leap year. Leap years happen every 4th year.)"
      ],
      "metadata": {
        "id": "5HlUztR0dr4h"
      }
    },
    {
      "cell_type": "code",
      "source": [
        "# Generate a list of even years in the 1990's, using the code above. (and print it)\n",
        "\n",
        "\n",
        "# Also try to create a list of leap years, starting with 2004, up through 2020. (Leap years are every 4 years.)\n"
      ],
      "metadata": {
        "id": "ikc-m2vSeBYF"
      },
      "execution_count": null,
      "outputs": []
    },
    {
      "cell_type": "markdown",
      "source": [
        "Helpful tip: these two code snippets create the same results:\n",
        "```\n",
        "even_years = np.arange(start = 1990, stop=2000, step=2)\n",
        "```\n",
        "and\n",
        "```\n",
        "even_years = np.arange(1990, 2000, 2)\n",
        "```\n",
        "Many functions assume that the inputs will come in a certain order. If you mix up the order, you need to tell it what the values mean. For example, this works too, but it's quite goofy:\n",
        "```\n",
        "even_years = np.arange(stop=2000, step=2, start = 1990)\n",
        "```"
      ],
      "metadata": {
        "id": "GTozw_GyAlUk"
      }
    },
    {
      "cell_type": "markdown",
      "source": [
        "The second useful type of list has a given \"start\" and \"stop,\" and contains a certain number of elements in it. For example, can you create a list of 10 numbers that are equally spaced, and lie between 1 and 3?\n",
        "Use the Numpy function \"linspace\" to do this:\n",
        "```\n",
        "list_10 = np.linspace(start=1, stop=3, num=10)\n",
        "```"
      ],
      "metadata": {
        "id": "Ja5e-DHUjXpA"
      }
    },
    {
      "cell_type": "code",
      "source": [
        "# try running the np.linspace command for list_10 here.  (and \"print\"!)\n",
        "\n",
        "\n",
        "# Create a list of 11 numbers between 4 and 5.\n",
        "\n"
      ],
      "metadata": {
        "id": "whWnpwmBjuMU"
      },
      "execution_count": null,
      "outputs": []
    },
    {
      "cell_type": "markdown",
      "source": [
        "It's annoying to print long lists to the screen. You may want to just see a summary of them. You can explore the minimum, maximum, and length of lists like this:\n",
        "```\n",
        "min(listname)\n",
        "max(listname)\n",
        "len(listname)\n",
        "```\n",
        "Where of course \"listname\" is the name of your list. If you run them one at a time you can see the answers. If you want to see all three answers at once, put them inside of a \"print\" command like this:\n",
        "```\n",
        "print(min(listname))\n",
        "```"
      ],
      "metadata": {
        "id": "N7D6bStAkXsQ"
      }
    },
    {
      "cell_type": "code",
      "source": [
        "# Check the min, max, and length of one of the lists that you created above.\n",
        "# by nesting the min, max, and len functions inside print commands.\n",
        "# Do the answers appear correct?\n"
      ],
      "metadata": {
        "id": "VCF38Z49kgGG"
      },
      "execution_count": null,
      "outputs": []
    },
    {
      "cell_type": "markdown",
      "source": [
        "# Functions\n",
        "You've already used some functions above! Functions are basically shortcut commands that perform a task. Functions usually need one or more input values (**parameters**) and return some output (the **return**). You've already used these functions:\n",
        "\n",
        "*   \"min\", \"max\", and \"len\" are built-in Python functions.  \n",
        "*   \"np.arange\" and \"np.linspace\" are functions in the Numpy library.  \n",
        "\n",
        "The most useful skill you can acquire in coding is *Looking Up Help Pages.* For example, use Google to find information about the linspace function. I suggest the search term in a browser window:\n",
        "```\n",
        "Google > python numpy linspace\n",
        "```\n",
        "Do you recognize some of the input parameters? What additional parameters can be given?"
      ],
      "metadata": {
        "id": "Lgi_calzlR8c"
      }
    },
    {
      "cell_type": "markdown",
      "source": [
        "# Exercise Block #1\n",
        "\n",
        "\n",
        "Copy-paste your answers to the questions below into your student worksheet.\n",
        "\n",
        "1.   Create a vector named A_10 that goes from -10 to 10, with a step size of 4. *(hint: be sure to check your answer! it should look like: [-10, -6, -2, 2, 6]*"
      ],
      "metadata": {
        "id": "n5alsvvMB9bk"
      }
    },
    {
      "cell_type": "code",
      "source": [
        "# 1. Create a vector named A_10 that goes from -10 to 10, with a step size of 4.\n",
        "# (hint: be sure to check your answer! it should look like: [-10, -6, -2, 2, 6]\n"
      ],
      "metadata": {
        "id": "T__QmBzhB-Wo"
      },
      "execution_count": null,
      "outputs": []
    },
    {
      "cell_type": "markdown",
      "source": [
        "\n",
        "2. Create a vector named A_pi with a range from 0 to 2*pi, with 20\n",
        "elements in it.\n",
        "\n",
        "* b) Check your work. Print out the minimum value, maximum value, and\n",
        "length of your vector A_pi.\n"
      ],
      "metadata": {
        "id": "_zxS2iqKCO66"
      }
    },
    {
      "cell_type": "code",
      "source": [
        "# 2. Your work here\n",
        "\n"
      ],
      "metadata": {
        "id": "c0l3_0ZOCVIx"
      },
      "execution_count": null,
      "outputs": []
    },
    {
      "cell_type": "markdown",
      "source": [
        "3. Create a variable that is a string. (you can make it anything you want!)"
      ],
      "metadata": {
        "id": "2QtUnNsrCi6G"
      }
    },
    {
      "cell_type": "code",
      "source": [
        "# 3. Your work\n"
      ],
      "metadata": {
        "id": "Nky3i64-CjKl"
      },
      "execution_count": null,
      "outputs": []
    },
    {
      "cell_type": "markdown",
      "source": [
        "\n",
        "\n",
        "4. Create a vector named \"p\" with the following values in this order:\n",
        "2, -5, 7, 1, 10."
      ],
      "metadata": {
        "id": "fhYerPRpoeRM"
      }
    },
    {
      "cell_type": "code",
      "source": [
        "# 4. Your work.\n"
      ],
      "metadata": {
        "id": "jleGP9NBCyxZ"
      },
      "execution_count": null,
      "outputs": []
    },
    {
      "cell_type": "markdown",
      "source": [
        "\n",
        "# End of Exercise Block #1"
      ],
      "metadata": {
        "id": "arAnBfWnC5pH"
      }
    },
    {
      "cell_type": "markdown",
      "source": [
        "\n",
        "# Let’s Make Some Waves!\n",
        "\n",
        "We will approximate a wave with a Sine function\n",
        "(You could equally use a Cosine function, which is just a\n",
        "Sine function with a 90-deg phase shift)\n",
        "\n",
        "First, we need a list that indicates space (like in meters) that ranges\n",
        "from 0 to 2*pi, and has 100 elements in it.\n",
        "\n"
      ],
      "metadata": {
        "id": "SPRXeHs7p-U_"
      }
    },
    {
      "cell_type": "code",
      "source": [
        "# Use np.linspace or np.arange to create a list that ranges from 0 to 2*pi, and has 100 elements in it.\n",
        "# Name it \"x\"\n"
      ],
      "metadata": {
        "id": "RpPUGkk6tXma"
      },
      "execution_count": null,
      "outputs": []
    },
    {
      "cell_type": "markdown",
      "source": [
        "We will make two waves. Each wave needs an amplitude and a phase shift. TYPE the following code into the box below. (you don't have to type the comments!)\n",
        "```\n",
        "A1 = 1  #amplitude of wave 1\n",
        "A2 = 2  #amplitude of wave 2\n",
        "f1 = 0  #phase shift of frequency of wave 1\n",
        "f2 = 0  #phase shift of frequency of wave 2\n",
        "```\n",
        "Then, using these newly defined variables, create your waves. Again, the \"Sine\" function can be found in the Numpy library (np.sin)\n",
        "```\n",
        "y1 = A1 * np.sin(x + f1)\n",
        "y2 = A2 * np.sin(x + f2)\n",
        "y3 = y1 + y2\n",
        "```"
      ],
      "metadata": {
        "id": "HjeD45hNvTv5"
      }
    },
    {
      "cell_type": "code",
      "source": [
        "# Enter the values for the amplitudes and phase shifts of waves 1 and 2.\n",
        "\n",
        "\n",
        "# Generate the wave heights (y) as a function of (x)\n"
      ],
      "metadata": {
        "id": "EzjgSLK2uj4Z"
      },
      "execution_count": null,
      "outputs": []
    },
    {
      "cell_type": "markdown",
      "source": [
        "To plot, we use the matplotlib library that we imported at the beginning. Remember?\n",
        "```\n",
        "import matplotlib.pyplot as plt\n",
        "```\n",
        "So we will use the **plot** function that can be found inside this library, with the shortcut name **plt**.\n",
        "```\n",
        "plt.plot(x, y1)\n",
        "plt.show()\n",
        "```"
      ],
      "metadata": {
        "id": "t6fvLpUDvz3j"
      }
    },
    {
      "cell_type": "code",
      "source": [
        "# Use the plt. commands above to plot wave 1 (y1) as a function of (x)\n"
      ],
      "metadata": {
        "id": "zI4-9eeKfnY7"
      },
      "execution_count": null,
      "outputs": []
    },
    {
      "cell_type": "markdown",
      "source": [
        "If you're like me, you might be thinking, \"That plot needs some axis labels!\" You can add any elements you like after the plot command, like this:\n",
        "```\n",
        "plt.plot(x, y1, \"pink\")\n",
        "plt.xlabel(\"x\")\n",
        "plt.ylabel(\"wave height\")\n",
        "plt.title(\"My Pink Wave!\")\n",
        "plt.show()\n",
        "```\n",
        "Try it in the code block below!"
      ],
      "metadata": {
        "id": "jRG0O2GuwzsG"
      }
    },
    {
      "cell_type": "code",
      "source": [],
      "metadata": {
        "id": "dsPtMF7YX2Lr"
      },
      "execution_count": null,
      "outputs": []
    },
    {
      "cell_type": "markdown",
      "source": [
        "At this point, honestly, I start copy-pasting the code block to adjust and refine my plotting routine, since you want it to run all together.  If you want to plot multiple curves, just add them as additional parameters to the plot command, like this:\n",
        "```\n",
        "plt.plot(x, y1, x, y2, x, y3)\n",
        "plt.legend(\"first\",\"second\",\"third\")\n",
        "```\n",
        "You can add a desired color or other line qualities right after each (x,y) pair, like this:\n",
        "```\n",
        "plt.plot(x, y1, \"blue\", x, y2, \"red\")\n",
        "```\n",
        "You can add grid lines with\n",
        "```\n",
        "plt.grid()\n",
        "```"
      ],
      "metadata": {
        "id": "HWek8fWCx1O4"
      }
    },
    {
      "cell_type": "code",
      "source": [
        "# Plot all three lines (y1, y2, and y3). Color them \"blue\", \"red\", and \"purple\" respectively\n",
        "# ... because blue + red = purple!\n",
        "# Give it x- and y-axis labels, and a legend.\n",
        "# Title the figure \"Waves in Phase\", and add grid lines.\n",
        "\n"
      ],
      "metadata": {
        "id": "bgk8mm8cyMqg"
      },
      "execution_count": null,
      "outputs": []
    },
    {
      "cell_type": "markdown",
      "source": [
        "# Exercise Block 2\n",
        "\n",
        "\n",
        "1. Place an image of the figure that you just made, titled \"Waves in phase,\" into your student worksheet.\n",
        "\n",
        "* x-label should be something like \"distance,\" or \"space,\" or \"x\"\n",
        "* y-label should be something like \"amplitude,\" or \"water elevation\" or \"wave height\"\n",
        "* Add grid lines\n",
        "* Add a legend\n",
        "* lines should be blue, red, and purple.\n",
        "\n",
        "2. Change the phase shift for the second wave:\n",
        "* f2 = pi/4.\n",
        "* Keep the amplitude the same.\n",
        "* Create a new plot of waves y1, y2, and their sum (y3).\n",
        "* Title it \"Waves Phase Shifted,\"\n",
        "* include a legend.\n",
        "* include grid lines."
      ],
      "metadata": {
        "id": "S2rysscJzy7O"
      }
    },
    {
      "cell_type": "code",
      "source": [
        "# Make your \"Waves Phase Shifted\" plot here. Remember to include the full code\n",
        "# defines A1, A2, f1, f2, creates y1, y2, and y3, and then the plot.\n",
        "\n",
        "\n",
        "\n",
        "# Generate the wave heights (y) as a function of (x)\n",
        "\n",
        "\n"
      ],
      "metadata": {
        "id": "4335_Q-A1a7y"
      },
      "execution_count": null,
      "outputs": []
    },
    {
      "cell_type": "markdown",
      "source": [
        "\n",
        "3. Your Choice! Increase the x-vector so it is twice as long (to 2*pi).\n",
        " Set the values for A1, A2, f1, and f2 to ANYTHING you would like.\n",
        "    Plot two waves and their sum. Be sure to change the title.\n",
        "    Include a title, axis labels, legend, and grid lines.\n",
        "    (please include your code and your figure in your answer)\n",
        "\n"
      ],
      "metadata": {
        "id": "dJ62tgkH1f92"
      }
    },
    {
      "cell_type": "code",
      "source": [
        "# Student answers may vary."
      ],
      "metadata": {
        "id": "awY10_aM33yF"
      },
      "execution_count": null,
      "outputs": []
    },
    {
      "cell_type": "markdown",
      "source": [
        "\n",
        "4. Summarize what you see with a few complete sentences.\n",
        "* a) How does the amplitude and phase shift of the original waves\n",
        "     affect the amplitude, phase shift, and wavelength of the summed wave?\n",
        "* b) Where does the summed wave have crests and troughs? Where does it have\n",
        "     amplitude = 0?\n",
        "* c) Can you identify constructive and destructive interference in any of your figures?\n",
        "\n",
        "ANSWERS:\n",
        "* a) Changing the phase of waves 1 & 2 DOES change the summed wave phase\n",
        "and amplitude, but DOES NOT change the summed wave wavelength. Changing\n",
        "the amplitude of waves 1 & 2 DOES change the amplitude of the summed\n",
        "wave, but DOES NOT change the phase or wavelength.\n",
        "\n",
        "* b) The summed wave has crests when the combination of waves 1 & 2 are\n",
        "greatest. The summed wave has amplitude=0 when waves 1 & 2 are opposite\n",
        "signs and equal values.\n",
        "\n",
        "* c) Constructive interference if both underlying waves are both positive\n",
        "or both negative. Destructive interference if they are different signs.\n",
        "\n"
      ],
      "metadata": {
        "id": "QYFh5_GK34O_"
      }
    },
    {
      "cell_type": "markdown",
      "source": [
        "5. CHALLENGE: Can you create a combination of A1, A2, f1, and f2 that result\n",
        "   in a water surface that is just a flat line? Would this ever happen in the\n",
        "   real world?\n"
      ],
      "metadata": {
        "id": "bBl2ZTiy83ww"
      }
    },
    {
      "cell_type": "code",
      "source": [
        "# Try your code to create your own Wave 1 and Wave 2 (that are non-zero!) that\n",
        "# add up to make a wave that is just a flat water surface.\n",
        "# (hint: include all code for A1-f2, y1-y3, and the full plot commands below.)\n",
        "\n",
        "\n",
        "\n",
        "# Generate the wave heights (y) as a function of (x)\n"
      ],
      "metadata": {
        "id": "HRStLL6q-Cq5"
      },
      "execution_count": null,
      "outputs": []
    },
    {
      "cell_type": "markdown",
      "source": [
        "# End of Exercise Block #2."
      ],
      "metadata": {
        "id": "EIkoU6kx846P"
      }
    },
    {
      "cell_type": "markdown",
      "source": [
        "Great job! You are making tremendous progress with Python!"
      ],
      "metadata": {
        "id": "caDf9lpbRpux"
      }
    }
  ]
}